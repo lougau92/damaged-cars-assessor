{
 "cells": [
  {
   "cell_type": "code",
   "execution_count": 1,
   "metadata": {},
   "outputs": [
    {
     "name": "stdout",
     "output_type": "stream",
     "text": [
      "Downloading https://raw.githubusercontent.com/phlippe/saved_models/main/tutorial9/cifar10_64.ckpt...\n",
      "Downloading https://raw.githubusercontent.com/phlippe/saved_models/main/tutorial9/cifar10_128.ckpt...\n",
      "Downloading https://raw.githubusercontent.com/phlippe/saved_models/main/tutorial9/cifar10_256.ckpt...\n",
      "Downloading https://raw.githubusercontent.com/phlippe/saved_models/main/tutorial9/cifar10_384.ckpt...\n"
     ]
    }
   ],
   "source": [
    "import urllib.request\n",
    "from urllib.error import HTTPError\n",
    "import os\n",
    "\n",
    "CHECKPOINT_PATH = \"./models/\"\n",
    "# Github URL where saved models are stored for this tutorial\n",
    "base_url = \"https://raw.githubusercontent.com/phlippe/saved_models/main/tutorial9/\"\n",
    "# Files to download\n",
    "pretrained_files = [\"cifar10_64.ckpt\", \"cifar10_128.ckpt\", \"cifar10_256.ckpt\", \"cifar10_384.ckpt\"]\n",
    "# Create checkpoint path if it doesn't exist yet\n",
    "os.makedirs(CHECKPOINT_PATH, exist_ok=True)\n",
    "\n",
    "# For each file, check whether it already exists. If not, try downloading it.\n",
    "for file_name in pretrained_files:\n",
    "    file_path = os.path.join(CHECKPOINT_PATH, file_name)\n",
    "    if not os.path.isfile(file_path):\n",
    "        file_url = base_url + file_name\n",
    "        print(f\"Downloading {file_url}...\")\n",
    "        try:\n",
    "            urllib.request.urlretrieve(file_url, file_path)\n",
    "        except HTTPError as e:\n",
    "            print(\"Something went wrong. Please try to download the file from the GDrive folder, or contact the author with the full output including the following error:\\n\", e)\n"
   ]
  },
  {
   "cell_type": "code",
   "execution_count": 8,
   "metadata": {},
   "outputs": [
    {
     "ename": "FileNotFoundError",
     "evalue": "[Errno 2] No such file or directory: '~/projects/louis/cars_data/internet_dataset_cleaned/data1a/training/00-damage/'",
     "output_type": "error",
     "traceback": [
      "\u001b[0;31m---------------------------------------------------------------------------\u001b[0m",
      "\u001b[0;31mFileNotFoundError\u001b[0m                         Traceback (most recent call last)",
      "\u001b[1;32m/home/p63744/projects/louis/damaged-cars-assessor/sandbox.ipynb Cell 2\u001b[0m in \u001b[0;36m<cell line: 19>\u001b[0;34m()\u001b[0m\n\u001b[1;32m     <a href='vscode-notebook-cell://ssh-remote%2B217.117.36.130/home/p63744/projects/louis/damaged-cars-assessor/sandbox.ipynb#W3sdnNjb2RlLXJlbW90ZQ%3D%3D?line=16'>17</a>\u001b[0m             shutil\u001b[39m.\u001b[39mmove(source\u001b[39m+\u001b[39m file, destination)\n\u001b[1;32m     <a href='vscode-notebook-cell://ssh-remote%2B217.117.36.130/home/p63744/projects/louis/damaged-cars-assessor/sandbox.ipynb#W3sdnNjb2RlLXJlbW90ZQ%3D%3D?line=17'>18</a>\u001b[0m             \u001b[39mprint\u001b[39m(\u001b[39m\"\u001b[39m\u001b[39mmove\u001b[39m\u001b[39m\"\u001b[39m,file)\n\u001b[0;32m---> <a href='vscode-notebook-cell://ssh-remote%2B217.117.36.130/home/p63744/projects/louis/damaged-cars-assessor/sandbox.ipynb#W3sdnNjb2RlLXJlbW90ZQ%3D%3D?line=18'>19</a>\u001b[0m move_files()\n",
      "\u001b[1;32m/home/p63744/projects/louis/damaged-cars-assessor/sandbox.ipynb Cell 2\u001b[0m in \u001b[0;36mmove_files\u001b[0;34m(dest, source)\u001b[0m\n\u001b[1;32m      <a href='vscode-notebook-cell://ssh-remote%2B217.117.36.130/home/p63744/projects/louis/damaged-cars-assessor/sandbox.ipynb#W3sdnNjb2RlLXJlbW90ZQ%3D%3D?line=2'>3</a>\u001b[0m \u001b[39mdef\u001b[39;00m \u001b[39mmove_files\u001b[39m (\n\u001b[1;32m      <a href='vscode-notebook-cell://ssh-remote%2B217.117.36.130/home/p63744/projects/louis/damaged-cars-assessor/sandbox.ipynb#W3sdnNjb2RlLXJlbW90ZQ%3D%3D?line=3'>4</a>\u001b[0m     dest \u001b[39m=\u001b[39m \u001b[39m\"\u001b[39m\u001b[39m~/projects/louis/cars_data/internet_dataset_cleaned/data1a/test/00-damage/\u001b[39m\u001b[39m\"\u001b[39m,\n\u001b[1;32m      <a href='vscode-notebook-cell://ssh-remote%2B217.117.36.130/home/p63744/projects/louis/damaged-cars-assessor/sandbox.ipynb#W3sdnNjb2RlLXJlbW90ZQ%3D%3D?line=4'>5</a>\u001b[0m     source \u001b[39m=\u001b[39m \u001b[39m\"\u001b[39m\u001b[39m~/projects/louis/cars_data/internet_dataset_cleaned/data1a/training/00-damage/\u001b[39m\u001b[39m\"\u001b[39m\n\u001b[1;32m      <a href='vscode-notebook-cell://ssh-remote%2B217.117.36.130/home/p63744/projects/louis/damaged-cars-assessor/sandbox.ipynb#W3sdnNjb2RlLXJlbW90ZQ%3D%3D?line=5'>6</a>\u001b[0m     ):\n\u001b[0;32m----> <a href='vscode-notebook-cell://ssh-remote%2B217.117.36.130/home/p63744/projects/louis/damaged-cars-assessor/sandbox.ipynb#W3sdnNjb2RlLXJlbW90ZQ%3D%3D?line=6'>7</a>\u001b[0m     list_imgs \u001b[39m=\u001b[39m os\u001b[39m.\u001b[39;49mlistdir(source)\n\u001b[1;32m      <a href='vscode-notebook-cell://ssh-remote%2B217.117.36.130/home/p63744/projects/louis/damaged-cars-assessor/sandbox.ipynb#W3sdnNjb2RlLXJlbW90ZQ%3D%3D?line=8'>9</a>\u001b[0m     test_set \u001b[39m=\u001b[39m random\u001b[39m.\u001b[39msample(list_imgs,\u001b[39m50\u001b[39m)\n\u001b[1;32m     <a href='vscode-notebook-cell://ssh-remote%2B217.117.36.130/home/p63744/projects/louis/damaged-cars-assessor/sandbox.ipynb#W3sdnNjb2RlLXJlbW90ZQ%3D%3D?line=10'>11</a>\u001b[0m     \u001b[39mfor\u001b[39;00m file \u001b[39min\u001b[39;00m test_set:\n",
      "\u001b[0;31mFileNotFoundError\u001b[0m: [Errno 2] No such file or directory: '~/projects/louis/cars_data/internet_dataset_cleaned/data1a/training/00-damage/'"
     ]
    }
   ],
   "source": [
    "import shutil\n",
    "# moving files from a directory to another\n",
    "def move_files (\n",
    "    dest = \"~/projects/louis/cars_data/internet_dataset_cleaned/data1a/test/00-damage/\",\n",
    "    source = \"~/projects/louis/cars_data/internet_dataset_cleaned/data1a/training/00-damage/\"\n",
    "    ):\n",
    "    list_imgs = os.listdir(source)\n",
    "\n",
    "    test_set = random.sample(list_imgs,50)\n",
    "\n",
    "    for file in test_set:\n",
    "\n",
    "        if file.endswith(\"JPEG\") or file.endswith(\"jpeg\"):\n",
    "            # construct full file path\n",
    "            destination = dest + file\n",
    "            # move file\n",
    "            shutil.move(source+ file, destination)\n",
    "            print(\"move\",file)\n",
    "move_files()"
   ]
  }
 ],
 "metadata": {
  "kernelspec": {
   "display_name": "Python 3.8.13 ('main_env')",
   "language": "python",
   "name": "python3"
  },
  "language_info": {
   "codemirror_mode": {
    "name": "ipython",
    "version": 3
   },
   "file_extension": ".py",
   "mimetype": "text/x-python",
   "name": "python",
   "nbconvert_exporter": "python",
   "pygments_lexer": "ipython3",
   "version": "3.8.13"
  },
  "orig_nbformat": 4,
  "vscode": {
   "interpreter": {
    "hash": "0d56fbe278f0540fbddc6eb4f6741b7428f8daba5df19feb25f241471c4e7547"
   }
  }
 },
 "nbformat": 4,
 "nbformat_minor": 2
}
