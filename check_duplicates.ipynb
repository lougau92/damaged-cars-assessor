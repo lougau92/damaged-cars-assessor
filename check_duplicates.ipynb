{
 "cells": [
  {
   "cell_type": "code",
   "execution_count": 4,
   "metadata": {},
   "outputs": [],
   "source": [
    "# Function that returns the first 10 pixels in an image\n",
    "from PIL import Image\n",
    "import os\n",
    "from tqdm import tqdm\n"
   ]
  },
  {
   "cell_type": "code",
   "execution_count": 6,
   "metadata": {},
   "outputs": [],
   "source": [
    "\n",
    "def getImagePixels(path):\n",
    "    #print(path)\n",
    "    im = Image.open(path)\n",
    "    #width, height = im.size\n",
    "    pixel_values = list(im.getdata())\n",
    "\n",
    "    verify = 10\n",
    "    try:\n",
    "        y = [row[:] for row in pixel_values[0:verify]]\n",
    "\n",
    "    except ValueError:\n",
    "        y = pixel_values[:]\n",
    "        print(y)\n",
    "\n",
    "\n",
    "    return y\n",
    "\n",
    "## Time efficient method to identify and remove duplicates and their labels\n",
    "# these duplicates may/may not have the same name or may be of different size\n",
    "\n",
    "# Step 1 - create a dictionary of all the images and their pixels\n",
    "path1 = \"C:/Users/louis/thesis/de Bruyn-Stage-2022/Data/yolo_dataset/images/train/\"\n",
    "path2 = \"C:/Users/louis/thesis/cars data/data1a/training/00-damage/\"\n"
   ]
  },
  {
   "cell_type": "code",
   "execution_count": 7,
   "metadata": {},
   "outputs": [
    {
     "name": "stderr",
     "output_type": "stream",
     "text": [
      "100%|██████████| 2883/2883 [03:33<00:00, 13.47it/s]"
     ]
    },
    {
     "name": "stdout",
     "output_type": "stream",
     "text": [
      "Finished dictionary1\n"
     ]
    },
    {
     "name": "stderr",
     "output_type": "stream",
     "text": [
      "\n"
     ]
    }
   ],
   "source": [
    "\n",
    "mydict = {}\n",
    "for file in tqdm(os.listdir(path1)):\n",
    "    # Check whether file is in text format or not\n",
    "    if file.endswith(\".jpg\") or file.endswith(\".jpeg\"):\n",
    "        pixels = getImagePixels(path1+file)\n",
    "        mydict[file] = pixels\n",
    "print(\"Finished dictionary1\")\n"
   ]
  },
  {
   "cell_type": "code",
   "execution_count": 8,
   "metadata": {},
   "outputs": [
    {
     "name": "stderr",
     "output_type": "stream",
     "text": [
      "100%|██████████| 920/920 [00:01<00:00, 631.29it/s] "
     ]
    },
    {
     "name": "stdout",
     "output_type": "stream",
     "text": [
      "Finished dictionary2\n"
     ]
    },
    {
     "name": "stderr",
     "output_type": "stream",
     "text": [
      "\n"
     ]
    }
   ],
   "source": [
    "\n",
    "for file in tqdm(os.listdir(path2)):\n",
    "    # Check whether file is in text format or not\n",
    "    if file.endswith(\".jpg\") or file.endswith(\".jpeg\"):\n",
    "        pixels = getImagePixels(path2+file)\n",
    "        mydict[file] = pixels\n",
    "print(\"Finished dictionary2\")\n"
   ]
  },
  {
   "cell_type": "code",
   "execution_count": 9,
   "metadata": {},
   "outputs": [
    {
     "name": "stdout",
     "output_type": "stream",
     "text": [
      "id_1627045461514.jpg [(253, 254, 255), (253, 254, 255), (253, 254, 255), (253, 254, 255), (253, 254, 255), (253, 254, 255), (253, 254, 255), (253, 254, 255), (254, 255, 255), (254, 255, 255)] duplicated\n",
      "0619.jpeg [(250, 250, 250), (250, 250, 250), (250, 250, 250), (250, 250, 250), (250, 250, 250), (250, 250, 250), (250, 250, 250), (250, 250, 250), (250, 250, 250), (250, 250, 250)] duplicated\n",
      "2  duplicates\n"
     ]
    }
   ],
   "source": [
    "\n",
    "seen = set()\n",
    "c= 0\n",
    "for key in mydict.keys():\n",
    "    value = tuple(mydict[key])\n",
    "    if value in seen:\n",
    "        #del mydict[key]\n",
    "        print(key,mydict[key],'duplicated')\n",
    "        c+=1\n",
    "    else:\n",
    "        seen.add(value) \n",
    "print(c,' duplicates')"
   ]
  },
  {
   "cell_type": "code",
   "execution_count": null,
   "metadata": {},
   "outputs": [],
   "source": []
  }
 ],
 "metadata": {
  "kernelspec": {
   "display_name": "Python 3.9.0 64-bit",
   "language": "python",
   "name": "python3"
  },
  "language_info": {
   "codemirror_mode": {
    "name": "ipython",
    "version": 3
   },
   "file_extension": ".py",
   "mimetype": "text/x-python",
   "name": "python",
   "nbconvert_exporter": "python",
   "pygments_lexer": "ipython3",
   "version": "3.9.0"
  },
  "orig_nbformat": 4,
  "vscode": {
   "interpreter": {
    "hash": "2f1ab2ca0b4268617c9c15108406e3be2b64989c728e47a18201667124c6f34f"
   }
  }
 },
 "nbformat": 4,
 "nbformat_minor": 2
}
